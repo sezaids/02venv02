{
 "cells": [
  {
   "cell_type": "code",
   "execution_count": null,
   "id": "b35bea22",
   "metadata": {},
   "outputs": [],
   "source": [
    "import numpy as np"
   ]
  },
  {
   "cell_type": "code",
   "execution_count": null,
   "id": "63de1aac",
   "metadata": {},
   "outputs": [],
   "source": [
    "# arr1 = np.array([4,2])\n",
    "# arr1 = np.array([[4,2],[5,1]])\n",
    "# arr1 = np.array([[[5]]]) # Number od \n",
    "# arr1 = np.array([5], ndmin=7)\n",
    "# print(arr1, arr1.ndim) "
   ]
  },
  {
   "cell_type": "code",
   "execution_count": null,
   "id": "da941596",
   "metadata": {},
   "outputs": [],
   "source": [
    "# arr2 = np.array([\n",
    "#     [1,2],\n",
    "#     [3,5]\n",
    "# ])\n",
    "\n",
    "# arr2 = np.array([[[1,2], [3,5]], [[2,0], [3,8]]])\n",
    "\n",
    "# print(arr2, arr2.ndim)"
   ]
  },
  {
   "cell_type": "code",
   "execution_count": null,
   "id": "3ee1cc33",
   "metadata": {},
   "outputs": [],
   "source": [
    "# arr3 = np.array([1,2,3])\n",
    "# arr3[-1] = 5\n",
    "# arr3 = np.array([[1,4],[5,9]])\n",
    "# arr3[0] = 90\n",
    "# print(arr3)"
   ]
  },
  {
   "cell_type": "code",
   "execution_count": null,
   "id": "cf55fb0b",
   "metadata": {},
   "outputs": [],
   "source": [
    "# arr4 = np.array([[[1,2], [3,5]], [[2,0], [3,8]]])\n",
    "\n",
    "# print(arr4[0][1][1])"
   ]
  },
  {
   "cell_type": "code",
   "execution_count": null,
   "id": "331276d0",
   "metadata": {},
   "outputs": [],
   "source": [
    "# arr4 = np.array([1,2,3,4,5,6,7,8])\n",
    "# print(arr4[::-2])"
   ]
  },
  {
   "cell_type": "code",
   "execution_count": null,
   "id": "8b138ac5",
   "metadata": {},
   "outputs": [],
   "source": [
    "\n",
    "# arr4 = np.array([[1,2,3,4],[5,6,7,8],[9,10,11,12],[13,14,15,16]])\n",
    "# # arr4 = np.array([[1,2],[3,4]])\n",
    "# print(arr4[1:3][1:2])\n",
    "# print(arr4[1,0:])\n",
    "# print(arr4[1][0:])"
   ]
  },
  {
   "cell_type": "code",
   "execution_count": null,
   "id": "26909ee7",
   "metadata": {},
   "outputs": [],
   "source": [
    "# arr5 = np.array([\"ab@c\\nc1s\",223453,3], dtype=\"S\")\n",
    "# print(arr5, type(arr5), arr5.dtype)"
   ]
  },
  {
   "cell_type": "code",
   "execution_count": null,
   "id": "5b0c7602",
   "metadata": {},
   "outputs": [],
   "source": [
    "# arr1 = np.array([[9,4,3],[1,7,3]])\n",
    "# arr1 = np.array([9,4,3])\n",
    "# print(arr1)\n",
    "# arr2 = np.array([[1,2,5],[4,7,9]])\n",
    "# arr2 = np.array([4,7,9])\n",
    "# print(arr2)\n",
    "\n",
    "# print(arr1 * arr2)"
   ]
  },
  {
   "cell_type": "code",
   "execution_count": null,
   "id": "017bfb68",
   "metadata": {},
   "outputs": [],
   "source": [
    "# arr1 = np.array([9,4,3])\n",
    "# print(arr1)\n",
    "# arr2 = np.array([4,7,9])\n",
    "# print(arr2)\n",
    "\n",
    "# print(arr1 * arr2)"
   ]
  },
  {
   "cell_type": "code",
   "execution_count": null,
   "id": "a8077ddb",
   "metadata": {},
   "outputs": [],
   "source": [
    "# np.zeros((3,4)) #Create an array of zeros\n",
    "# np.ones((2,3,4),dtype=np.int16) #Create an array of ones\n",
    "# d = np.arange(10,25,5)#Create an array of evenly spaced values (step value)\n",
    "# # np.linspace(0,2,9) #Create an array of evenlyspaced values (number of samples)\n",
    "# # e = np.full((3,2),7)#Create a constant array\n",
    "# # f = np.eye(2) #Create a 2X2 identity matrix\n",
    "# # g = np.random.random((2,2)) #Create an array with random values\n",
    "# h = np.empty((3,4,1)) #Create an empty array\n",
    "\n",
    "# print(h)"
   ]
  },
  {
   "cell_type": "code",
   "execution_count": null,
   "id": "62078030",
   "metadata": {},
   "outputs": [],
   "source": [
    "# arr = np.array([1,2,3,8,7,6])\n",
    "# arr7 = np.max([1,2,3,8,7,6])\n",
    "# arr7 = np.min([1,2,-3,8,7,6])\n",
    "# arr7 = np.mean([1,2,-3,8,7,6])\n",
    "# arr7 = np.median([1,2,3,4,5,6,7,8])\n",
    "# arr7 = np.sum(arr)\n",
    "# print(arr7)"
   ]
  },
  {
   "cell_type": "code",
   "execution_count": null,
   "id": "7c17167d",
   "metadata": {},
   "outputs": [],
   "source": [
    "# apk = list([2,3,4,5,6])\n",
    "# arr7 = np.mean(apk)\n",
    "# print(arr7)"
   ]
  },
  {
   "cell_type": "code",
   "execution_count": null,
   "id": "772c67d5",
   "metadata": {},
   "outputs": [],
   "source": [
    "# Write a program where to find the determinant of a matrix A = [[5,2],[10]]\n",
    "\n",
    "# A = np.array([[5,2],[10,9]])\n",
    "# arr = np.linalg.det(A)\n",
    "# print(arr)"
   ]
  },
  {
   "cell_type": "code",
   "execution_count": null,
   "id": "95aa87dc",
   "metadata": {},
   "outputs": [],
   "source": [
    "# b = np.array([1,2,3,4,5,6,7,8,9,10,11,12])\n",
    "# print(b.extract(0))"
   ]
  },
  {
   "cell_type": "code",
   "execution_count": null,
   "id": "675d4c66",
   "metadata": {},
   "outputs": [],
   "source": [
    "# write a program find the sum and average of array c = (5,6,2,9,10,12,15)\n",
    "# c = [5,6,2,9,10,12,15]\n",
    "# avg_c = np.average(c)\n",
    "# sum_c = np.sum(c)\n",
    "# print(avg_c)\n",
    "# print(sum_c)"
   ]
  },
  {
   "cell_type": "code",
   "execution_count": null,
   "id": "6befdb07",
   "metadata": {},
   "outputs": [],
   "source": [
    "# b = np.array([1,2,3,4,5,6,7,8,9,10,11,12])\n",
    "# idx = np.where(b % 2 == 0)\n",
    "\n",
    "# print(b[idx])"
   ]
  },
  {
   "cell_type": "code",
   "execution_count": null,
   "id": "dcffd071",
   "metadata": {},
   "outputs": [],
   "source": [
    "# print(np.__version__)"
   ]
  },
  {
   "cell_type": "markdown",
   "id": "d95b5872",
   "metadata": {},
   "source": [
    "# Class #2 -> numpy library"
   ]
  },
  {
   "cell_type": "markdown",
   "id": "cbd7475e",
   "metadata": {},
   "source": [
    "### Linear algebra - Matrix"
   ]
  },
  {
   "cell_type": "code",
   "execution_count": null,
   "id": "f432509c",
   "metadata": {},
   "outputs": [],
   "source": [
    "from numpy import linalg, random as ran\n",
    "\n",
    "# 2x + 5y = 10\n",
    "# 4x + 8y = 12\n",
    "\n",
    "# [2 5] [x] = [10]\n",
    "# [4 8] [y] = [12]\n",
    "#    AX = B\n",
    "# X = (A^-1)(B)\n",
    "\n",
    "# A = np.array([\n",
    "#     [2,5],\n",
    "#     [4,8]])\n",
    "# B = np.array([\n",
    "#     [10],\n",
    "#     [12]])\n",
    "# X = np.linalg.solve(A,B)\n",
    "\n",
    "# print(X)"
   ]
  },
  {
   "cell_type": "code",
   "execution_count": null,
   "id": "5a26a14f",
   "metadata": {},
   "outputs": [],
   "source": [
    "# arr5 = np.array([\n",
    "#     [1,2,3],\n",
    "#     [2,4,6],\n",
    "#     [3,6,9],\n",
    "#     [4,8,12]\n",
    "# ])\n",
    "\n",
    "# print(arr5.shape)\n",
    "# print(arr5.reshape(2,6))"
   ]
  },
  {
   "cell_type": "markdown",
   "id": "f0f33a4f",
   "metadata": {},
   "source": [
    "### Trignometry using numpy"
   ]
  },
  {
   "cell_type": "markdown",
   "id": "f671a635",
   "metadata": {},
   "source": [
    "## Matrix implementation"
   ]
  },
  {
   "cell_type": "code",
   "execution_count": null,
   "id": "a93ef20e",
   "metadata": {},
   "outputs": [],
   "source": [
    "# arr5 = np.array([\n",
    "#     [1,2,3],\n",
    "#     [2,4,6],\n",
    "#     [3,6,9],\n",
    "#     [4,8,12]\n",
    "# ])\n",
    "\n",
    "# print(arr5.shape)\n",
    "# print(arr5.reshape(2,6))"
   ]
  },
  {
   "cell_type": "code",
   "execution_count": null,
   "id": "8b6862b6",
   "metadata": {},
   "outputs": [],
   "source": [
    "# arr = np.eye(4,3)\n",
    "# # arr = np.identity(2)\n",
    "# print(arr)"
   ]
  },
  {
   "cell_type": "code",
   "execution_count": null,
   "id": "20e7f972",
   "metadata": {},
   "outputs": [],
   "source": [
    "# arr8 = np.array([1,2,3,4])\n",
    "# # arr9 = arr8 # Pass by reference\n",
    "# arr9 = arr8.copy() # make a copy of array\n",
    "# arr8[0] = 40\n",
    "\n",
    "# print(arr8, arr9)"
   ]
  },
  {
   "cell_type": "code",
   "execution_count": null,
   "id": "8db81900",
   "metadata": {},
   "outputs": [],
   "source": [
    "# arr11 = np.zeros([2,3])\n",
    "\n",
    "# print(arr11)"
   ]
  },
  {
   "cell_type": "code",
   "execution_count": null,
   "id": "6570621a",
   "metadata": {},
   "outputs": [],
   "source": [
    "# CSV > millions of line data : name, id, age, exp, salary, number ...\n",
    "# arr11 = np.linspace(1,45,20)\n",
    "# print(arr11)"
   ]
  },
  {
   "cell_type": "code",
   "execution_count": null,
   "id": "98d76e55",
   "metadata": {},
   "outputs": [],
   "source": [
    "from numpy import random as ran\n",
    "# x = ran.randint(1,11)\n",
    "# # print(x)\n",
    "# y = ran.randint(1,7, size=5000)\n",
    "# print(y)"
   ]
  },
  {
   "cell_type": "code",
   "execution_count": null,
   "id": "72b4ebcf",
   "metadata": {},
   "outputs": [],
   "source": [
    "# numpy array > 1. find inverse,2. linear algebra x,y,z det(A), Transpose, AXB\n",
    "# Random integer number (100)"
   ]
  },
  {
   "cell_type": "code",
   "execution_count": null,
   "id": "53dfc454",
   "metadata": {},
   "outputs": [],
   "source": [
    "try_again = 0\n",
    "random_num = ran.randint(1,11)\n",
    "print(random_num)\n",
    "user_num = int(input(\"Enter your Guess number: \"))\n",
    "score = 0\n",
    "boolean = True\n",
    "while boolean:\n",
    "    if (user_num == random_num):\n",
    "        score += 1\n",
    "        print(f\"Correct guess! Score: {score}\")\n",
    "        random_num = ran.randint(1,11)\n",
    "        try_again = 0\n",
    "    elif(try_again > 1):\n",
    "        print(f\"Worng guess! Your total score: {score}\")\n",
    "        break\n",
    "    else:\n",
    "        # print(f\"Hint: Number is between {random_num-3} to {random_num+2}\")\n",
    "        if (user_num < random_num):\n",
    "            print(\"Hint: Enter larger number.\")\n",
    "        else:\n",
    "            print(\"Hint: Enter smaller number.\")\n",
    "        print(\"Try again once\")\n",
    "        try_again += 1\n",
    "    \n",
    "    print(random_num)\n",
    "    user_num = int(input(\"Enter your Guess number: \"))\n"
   ]
  },
  {
   "cell_type": "code",
   "execution_count": null,
   "id": "31df8787",
   "metadata": {},
   "outputs": [],
   "source": []
  }
 ],
 "metadata": {
  "kernelspec": {
   "display_name": "Python 3",
   "language": "python",
   "name": "python3"
  },
  "language_info": {
   "codemirror_mode": {
    "name": "ipython",
    "version": 3
   },
   "file_extension": ".py",
   "mimetype": "text/x-python",
   "name": "python",
   "nbconvert_exporter": "python",
   "pygments_lexer": "ipython3",
   "version": "3.13.2"
  }
 },
 "nbformat": 4,
 "nbformat_minor": 5
}
