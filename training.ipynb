{
 "cells": [
  {
   "cell_type": "code",
   "execution_count": 2,
   "id": "c11398f9-0d02-4821-a398-da474eceb16f",
   "metadata": {},
   "outputs": [],
   "source": [
    "import numpy as np"
   ]
  },
  {
   "cell_type": "code",
   "execution_count": 3,
   "id": "a326ce0b-c067-4aec-a68f-4b68052cfe69",
   "metadata": {},
   "outputs": [],
   "source": [
    "myarr = np.array([[3,6,9,12,2]], np.int64)"
   ]
  },
  {
   "cell_type": "code",
   "execution_count": 4,
   "id": "ef46619e-210a-4873-b1e6-39fe60e3f0e1",
   "metadata": {},
   "outputs": [
    {
     "data": {
      "text/plain": [
       "np.int64(9)"
      ]
     },
     "execution_count": 4,
     "metadata": {},
     "output_type": "execute_result"
    }
   ],
   "source": [
    "myarr[0,2]"
   ]
  },
  {
   "cell_type": "markdown",
   "id": "fb13b097-fa5b-495c-ae4f-305d6b187c9c",
   "metadata": {},
   "source": [
    "#### Conversion from other python structures"
   ]
  },
  {
   "cell_type": "code",
   "execution_count": 5,
   "id": "60a75122-f71e-4a1a-8beb-a769cd43d93a",
   "metadata": {
    "jupyter": {
     "source_hidden": true
    }
   },
   "outputs": [],
   "source": [
    "my2darray = np.array([[1,2,3,],[4,5,6],[7,8,9],[10,11,12]])"
   ]
  },
  {
   "cell_type": "code",
   "execution_count": 6,
   "id": "088668b9-efb9-4218-95c2-46307ff1a290",
   "metadata": {},
   "outputs": [
    {
     "data": {
      "text/plain": [
       "array([[ 1,  2,  3],\n",
       "       [ 4,  5,  6],\n",
       "       [ 7,  8,  9],\n",
       "       [10, 11, 12]])"
      ]
     },
     "execution_count": 6,
     "metadata": {},
     "output_type": "execute_result"
    }
   ],
   "source": [
    "my2darray"
   ]
  },
  {
   "cell_type": "code",
   "execution_count": 7,
   "id": "2e13df06-8265-4536-bb6f-564595a72314",
   "metadata": {},
   "outputs": [
    {
     "data": {
      "text/plain": [
       "dtype('int64')"
      ]
     },
     "execution_count": 7,
     "metadata": {},
     "output_type": "execute_result"
    }
   ],
   "source": [
    "my2darray.dtype"
   ]
  },
  {
   "cell_type": "code",
   "execution_count": 8,
   "id": "5397e5b0-9785-4014-90c3-db630bdd9a09",
   "metadata": {},
   "outputs": [
    {
     "data": {
      "text/plain": [
       "(4, 3)"
      ]
     },
     "execution_count": 8,
     "metadata": {},
     "output_type": "execute_result"
    }
   ],
   "source": [
    "my2darray.shape"
   ]
  },
  {
   "cell_type": "code",
   "execution_count": 9,
   "id": "f6d35b47-a662-409a-8bbb-f2836ba75568",
   "metadata": {},
   "outputs": [
    {
     "data": {
      "text/plain": [
       "12"
      ]
     },
     "execution_count": 9,
     "metadata": {},
     "output_type": "execute_result"
    }
   ],
   "source": [
    "my2darray.size"
   ]
  },
  {
   "cell_type": "code",
   "execution_count": 10,
   "id": "c354e08c-271a-43f6-98f9-35d9675f76ac",
   "metadata": {},
   "outputs": [
    {
     "data": {
      "text/plain": [
       "array({9, 3, 5, 7}, dtype=object)"
      ]
     },
     "execution_count": 10,
     "metadata": {},
     "output_type": "execute_result"
    }
   ],
   "source": [
    "np.array({3,5,7,9})"
   ]
  },
  {
   "cell_type": "markdown",
   "id": "d43703f4-22f2-46d0-a7a2-10897e78aebc",
   "metadata": {},
   "source": [
    "#### Intrinsic numpy array creation objects"
   ]
  },
  {
   "cell_type": "code",
   "execution_count": 11,
   "id": "c7c4a3bf-3771-4f23-94aa-f25c9126cfef",
   "metadata": {},
   "outputs": [],
   "source": [
    "zerosarr = np.zeros((3,4), np.int8)"
   ]
  },
  {
   "cell_type": "code",
   "execution_count": 12,
   "id": "81ae045c-ce64-48ca-8f17-d1837c632666",
   "metadata": {},
   "outputs": [
    {
     "data": {
      "text/plain": [
       "array([[0, 0, 0, 0],\n",
       "       [0, 0, 0, 0],\n",
       "       [0, 0, 0, 0]], dtype=int8)"
      ]
     },
     "execution_count": 12,
     "metadata": {},
     "output_type": "execute_result"
    }
   ],
   "source": [
    "zerosarr"
   ]
  },
  {
   "cell_type": "code",
   "execution_count": 13,
   "id": "dd37f1a7-e162-4b36-995b-663c87a76414",
   "metadata": {},
   "outputs": [
    {
     "data": {
      "text/plain": [
       "(3, 4)"
      ]
     },
     "execution_count": 13,
     "metadata": {},
     "output_type": "execute_result"
    }
   ],
   "source": [
    "zerosarr.shape"
   ]
  },
  {
   "cell_type": "code",
   "execution_count": 14,
   "id": "12bc9708-ee55-4252-b826-63f29a69aab7",
   "metadata": {},
   "outputs": [
    {
     "data": {
      "text/plain": [
       "12"
      ]
     },
     "execution_count": 14,
     "metadata": {},
     "output_type": "execute_result"
    }
   ],
   "source": [
    "zerosarr.size"
   ]
  },
  {
   "cell_type": "code",
   "execution_count": 15,
   "id": "54be5e5f-5c87-4bd2-9efc-ddda01276d44",
   "metadata": {},
   "outputs": [
    {
     "data": {
      "text/plain": [
       "dtype('int8')"
      ]
     },
     "execution_count": 15,
     "metadata": {},
     "output_type": "execute_result"
    }
   ],
   "source": [
    "zerosarr.dtype"
   ]
  },
  {
   "cell_type": "code",
   "execution_count": 16,
   "id": "914ff6a0-710a-4d57-9dee-cb5e66805429",
   "metadata": {},
   "outputs": [],
   "source": [
    "range_ = np.arange(10,15,2) # range"
   ]
  },
  {
   "cell_type": "code",
   "execution_count": 17,
   "id": "0e308a92-20eb-4798-bbb6-6bbe23d59b63",
   "metadata": {},
   "outputs": [
    {
     "data": {
      "text/plain": [
       "array([10, 12, 14])"
      ]
     },
     "execution_count": 17,
     "metadata": {},
     "output_type": "execute_result"
    }
   ],
   "source": [
    "range_"
   ]
  },
  {
   "cell_type": "code",
   "execution_count": 18,
   "id": "f2ce9065-062c-4d6f-8826-7051e726b84e",
   "metadata": {},
   "outputs": [],
   "source": [
    "lspace = np.linspace(1,24,7) #Give 7 elemnets b/w 1-24 who has equally space"
   ]
  },
  {
   "cell_type": "code",
   "execution_count": 19,
   "id": "7d154726-407d-4834-a950-222edc48051d",
   "metadata": {},
   "outputs": [
    {
     "data": {
      "text/plain": [
       "array([ 1.        ,  4.83333333,  8.66666667, 12.5       , 16.33333333,\n",
       "       20.16666667, 24.        ])"
      ]
     },
     "execution_count": 19,
     "metadata": {},
     "output_type": "execute_result"
    }
   ],
   "source": [
    "lspace"
   ]
  },
  {
   "cell_type": "code",
   "execution_count": 20,
   "id": "6d1a7365-9eef-4244-8ca6-7559b894f252",
   "metadata": {},
   "outputs": [],
   "source": [
    "emp = np.empty((2,3)) # give empty array and assigned random value in the array"
   ]
  },
  {
   "cell_type": "code",
   "execution_count": 21,
   "id": "4c73c348-06bd-4a30-8957-f61b25850c68",
   "metadata": {},
   "outputs": [
    {
     "data": {
      "text/plain": [
       "array([[-1.45055918e-311, -1.85531945e-213,  1.45057253e-311],\n",
       "       [ 1.45057253e-311,  1.33397724e-322,  0.00000000e+000]])"
      ]
     },
     "execution_count": 21,
     "metadata": {},
     "output_type": "execute_result"
    }
   ],
   "source": [
    "emp"
   ]
  },
  {
   "cell_type": "code",
   "execution_count": 22,
   "id": "9b02da17-9f08-467b-8001-e686eb59519d",
   "metadata": {},
   "outputs": [],
   "source": [
    "emp_like = np.empty_like(lspace) # copy 'lspace' size and element in the emp_like array"
   ]
  },
  {
   "cell_type": "code",
   "execution_count": 23,
   "id": "9d80b7a0-ff39-4fd4-b6dc-607659cf4c27",
   "metadata": {},
   "outputs": [
    {
     "data": {
      "text/plain": [
       "array([ 1.        ,  4.83333333,  8.66666667, 12.5       , 16.33333333,\n",
       "       20.16666667, 24.        ])"
      ]
     },
     "execution_count": 23,
     "metadata": {},
     "output_type": "execute_result"
    }
   ],
   "source": [
    "emp_like"
   ]
  },
  {
   "cell_type": "code",
   "execution_count": 24,
   "id": "2101beea-b980-43da-adce-a35b59bb0ca4",
   "metadata": {},
   "outputs": [],
   "source": [
    "iden = np.identity(4) # Give identity matrix of 4x4"
   ]
  },
  {
   "cell_type": "code",
   "execution_count": 25,
   "id": "d6db2fec-187e-4b39-ac96-46e3cbf3ed8c",
   "metadata": {},
   "outputs": [
    {
     "data": {
      "text/plain": [
       "array([[1., 0., 0., 0.],\n",
       "       [0., 1., 0., 0.],\n",
       "       [0., 0., 1., 0.],\n",
       "       [0., 0., 0., 1.]])"
      ]
     },
     "execution_count": 25,
     "metadata": {},
     "output_type": "execute_result"
    }
   ],
   "source": [
    "iden"
   ]
  },
  {
   "cell_type": "code",
   "execution_count": 26,
   "id": "aab72cc9-cf3b-4414-84fd-25feca5fc6e7",
   "metadata": {},
   "outputs": [],
   "source": [
    "arr = np.arange(30)"
   ]
  },
  {
   "cell_type": "code",
   "execution_count": 27,
   "id": "9c9b06b1-dc4b-4509-af29-feab9682eaa2",
   "metadata": {},
   "outputs": [
    {
     "data": {
      "text/plain": [
       "array([ 0,  1,  2,  3,  4,  5,  6,  7,  8,  9, 10, 11, 12, 13, 14, 15, 16,\n",
       "       17, 18, 19, 20, 21, 22, 23, 24, 25, 26, 27, 28, 29])"
      ]
     },
     "execution_count": 27,
     "metadata": {},
     "output_type": "execute_result"
    }
   ],
   "source": [
    "arr"
   ]
  },
  {
   "cell_type": "code",
   "execution_count": 28,
   "id": "8fc3d9fa-4eef-4ef0-ac12-c4ca13902705",
   "metadata": {},
   "outputs": [
    {
     "data": {
      "text/plain": [
       "array([[ 0,  1,  2,  3,  4],\n",
       "       [ 5,  6,  7,  8,  9],\n",
       "       [10, 11, 12, 13, 14],\n",
       "       [15, 16, 17, 18, 19],\n",
       "       [20, 21, 22, 23, 24],\n",
       "       [25, 26, 27, 28, 29]])"
      ]
     },
     "execution_count": 28,
     "metadata": {},
     "output_type": "execute_result"
    }
   ],
   "source": [
    "arr.reshape(6,5) # reshape the given array according to arguments *but it will not change 'arr'*"
   ]
  },
  {
   "cell_type": "code",
   "execution_count": 29,
   "id": "ecba7241-adcf-4c15-995c-d6a5075ee332",
   "metadata": {},
   "outputs": [],
   "source": [
    "arr = arr.reshape(6,5) # reshape the given array according to arguments *now it will change 'arr'*"
   ]
  },
  {
   "cell_type": "code",
   "execution_count": 30,
   "id": "48ac4632-9d51-4b04-843f-c35ee899ac6a",
   "metadata": {},
   "outputs": [
    {
     "data": {
      "text/plain": [
       "array([[ 0,  1,  2,  3,  4],\n",
       "       [ 5,  6,  7,  8,  9],\n",
       "       [10, 11, 12, 13, 14],\n",
       "       [15, 16, 17, 18, 19],\n",
       "       [20, 21, 22, 23, 24],\n",
       "       [25, 26, 27, 28, 29]])"
      ]
     },
     "execution_count": 30,
     "metadata": {},
     "output_type": "execute_result"
    }
   ],
   "source": [
    "arr"
   ]
  },
  {
   "cell_type": "code",
   "execution_count": 31,
   "id": "ded2174d-ab6c-4598-94f4-07e01c298a6e",
   "metadata": {},
   "outputs": [],
   "source": [
    "arr = arr.ravel() # convert 'arr' in 1D"
   ]
  },
  {
   "cell_type": "code",
   "execution_count": 32,
   "id": "b959d70f-003c-402d-87ac-7634e4826077",
   "metadata": {},
   "outputs": [
    {
     "data": {
      "text/plain": [
       "array([ 0,  1,  2,  3,  4,  5,  6,  7,  8,  9, 10, 11, 12, 13, 14, 15, 16,\n",
       "       17, 18, 19, 20, 21, 22, 23, 24, 25, 26, 27, 28, 29])"
      ]
     },
     "execution_count": 32,
     "metadata": {},
     "output_type": "execute_result"
    }
   ],
   "source": [
    "arr"
   ]
  },
  {
   "cell_type": "code",
   "execution_count": 33,
   "id": "9487a81e-f924-4bfd-9f56-6959abd25665",
   "metadata": {},
   "outputs": [
    {
     "data": {
      "text/plain": [
       "(30,)"
      ]
     },
     "execution_count": 33,
     "metadata": {},
     "output_type": "execute_result"
    }
   ],
   "source": [
    "arr.shape"
   ]
  },
  {
   "cell_type": "code",
   "execution_count": 34,
   "id": "f27fe0c6-57d9-4785-822f-72b5463e3e47",
   "metadata": {},
   "outputs": [],
   "source": [
    "x = np.array([[1,2,3],[4,8,5],[2,6,9]],np.int8)"
   ]
  },
  {
   "cell_type": "code",
   "execution_count": 35,
   "id": "41f0d38c-5d92-4224-a8c2-0659e899a817",
   "metadata": {},
   "outputs": [
    {
     "data": {
      "text/plain": [
       "array([[1, 2, 3],\n",
       "       [4, 8, 5],\n",
       "       [2, 6, 9]], dtype=int8)"
      ]
     },
     "execution_count": 35,
     "metadata": {},
     "output_type": "execute_result"
    }
   ],
   "source": [
    "x"
   ]
  },
  {
   "cell_type": "code",
   "execution_count": 36,
   "id": "4d318d91-0c2b-48e5-8823-aca57de5f3bb",
   "metadata": {},
   "outputs": [
    {
     "data": {
      "text/plain": [
       "array([ 6, 17, 17])"
      ]
     },
     "execution_count": 36,
     "metadata": {},
     "output_type": "execute_result"
    }
   ],
   "source": [
    "x.sum(axis=1) #sum of all column in each row"
   ]
  },
  {
   "cell_type": "code",
   "execution_count": 37,
   "id": "320a45be-5c23-4714-a359-155e9fa847b1",
   "metadata": {},
   "outputs": [
    {
     "data": {
      "text/plain": [
       "array([ 7, 16, 17])"
      ]
     },
     "execution_count": 37,
     "metadata": {},
     "output_type": "execute_result"
    }
   ],
   "source": [
    "x.sum(axis=0) #sum of all row in each col"
   ]
  },
  {
   "cell_type": "code",
   "execution_count": 38,
   "id": "51a4d40c-7b8c-4a1f-907c-27b0b597f7ab",
   "metadata": {},
   "outputs": [
    {
     "data": {
      "text/plain": [
       "array([[1, 4, 2],\n",
       "       [2, 8, 6],\n",
       "       [3, 5, 9]], dtype=int8)"
      ]
     },
     "execution_count": 38,
     "metadata": {},
     "output_type": "execute_result"
    }
   ],
   "source": [
    "x.T #Transpose: interchanging its rows and columns"
   ]
  },
  {
   "cell_type": "code",
   "execution_count": 39,
   "id": "6c4ee7fb-3954-4582-9d49-c732583632f9",
   "metadata": {},
   "outputs": [
    {
     "name": "stdout",
     "output_type": "stream",
     "text": [
      "1\n",
      "2\n",
      "3\n",
      "4\n",
      "8\n",
      "5\n",
      "2\n",
      "6\n",
      "9\n"
     ]
    }
   ],
   "source": [
    "for item in x.flat:\n",
    "    print(item)"
   ]
  },
  {
   "cell_type": "code",
   "execution_count": 40,
   "id": "95d8a8cb-ca7d-43d3-803c-ccddc21e8ad2",
   "metadata": {},
   "outputs": [
    {
     "data": {
      "text/plain": [
       "2"
      ]
     },
     "execution_count": 40,
     "metadata": {},
     "output_type": "execute_result"
    }
   ],
   "source": [
    "x.ndim"
   ]
  },
  {
   "cell_type": "code",
   "execution_count": 41,
   "id": "114fd20b-fdc6-4cd5-9554-29a810f0be33",
   "metadata": {},
   "outputs": [
    {
     "data": {
      "text/plain": [
       "9"
      ]
     },
     "execution_count": 41,
     "metadata": {},
     "output_type": "execute_result"
    }
   ],
   "source": [
    "x.nbytes"
   ]
  },
  {
   "cell_type": "code",
   "execution_count": 42,
   "id": "4ad15487-f5ae-4616-9d6b-6478691c7452",
   "metadata": {},
   "outputs": [
    {
     "data": {
      "text/plain": [
       "9"
      ]
     },
     "execution_count": 42,
     "metadata": {},
     "output_type": "execute_result"
    }
   ],
   "source": [
    "x.size"
   ]
  },
  {
   "cell_type": "code",
   "execution_count": 43,
   "id": "6b2d0ada-9563-4cc7-b692-b7b2ca295222",
   "metadata": {},
   "outputs": [],
   "source": [
    "one = np.array([1,3,5,0,888])"
   ]
  },
  {
   "cell_type": "code",
   "execution_count": 44,
   "id": "b80c0c26-e70a-44fe-96d9-b15ab3e3c035",
   "metadata": {},
   "outputs": [
    {
     "data": {
      "text/plain": [
       "np.int64(4)"
      ]
     },
     "execution_count": 44,
     "metadata": {},
     "output_type": "execute_result"
    }
   ],
   "source": [
    "one.argmax() # Tells the index of maximum element"
   ]
  },
  {
   "cell_type": "code",
   "execution_count": 45,
   "id": "be087ffb-cc94-4ff5-832f-a0e67bf2c2ee",
   "metadata": {},
   "outputs": [
    {
     "data": {
      "text/plain": [
       "np.int64(3)"
      ]
     },
     "execution_count": 45,
     "metadata": {},
     "output_type": "execute_result"
    }
   ],
   "source": [
    "one.argmin() # Tells the index of minimum element"
   ]
  },
  {
   "cell_type": "code",
   "execution_count": 46,
   "id": "f6bfab19-42d4-43be-a706-31e7d73e5499",
   "metadata": {},
   "outputs": [
    {
     "data": {
      "text/plain": [
       "array([3, 0, 1, 2, 4])"
      ]
     },
     "execution_count": 46,
     "metadata": {},
     "output_type": "execute_result"
    }
   ],
   "source": [
    "one.argsort() #sort using indices. smallest element at 3rd place, and then second samllest at 0th place and so on. "
   ]
  },
  {
   "cell_type": "code",
   "execution_count": 47,
   "id": "17c24b6e-c5d9-4ea4-9551-aa02faf9ccff",
   "metadata": {},
   "outputs": [
    {
     "data": {
      "text/plain": [
       "array([[1, 2, 3],\n",
       "       [4, 8, 5],\n",
       "       [2, 6, 9]], dtype=int8)"
      ]
     },
     "execution_count": 47,
     "metadata": {},
     "output_type": "execute_result"
    }
   ],
   "source": [
    "x"
   ]
  },
  {
   "cell_type": "code",
   "execution_count": 48,
   "id": "d48fbaaf-bf5d-427f-91b2-fe6ee055616b",
   "metadata": {},
   "outputs": [
    {
     "data": {
      "text/plain": [
       "np.int64(0)"
      ]
     },
     "execution_count": 48,
     "metadata": {},
     "output_type": "execute_result"
    }
   ],
   "source": [
    "x.argmin() # First convert 2D to 1D (first row then second, then third in straight line). Smallest element at index=0."
   ]
  },
  {
   "cell_type": "code",
   "execution_count": 49,
   "id": "3caff183-530e-4be3-8c1a-f7aa34f0138f",
   "metadata": {},
   "outputs": [
    {
     "data": {
      "text/plain": [
       "np.int64(8)"
      ]
     },
     "execution_count": 49,
     "metadata": {},
     "output_type": "execute_result"
    }
   ],
   "source": [
    "x.argmax() # First convert 2D to 1D. Smallest element at index=8."
   ]
  },
  {
   "cell_type": "code",
   "execution_count": 50,
   "id": "7513af63-7473-4a8b-91e2-b23499be70a5",
   "metadata": {},
   "outputs": [
    {
     "data": {
      "text/plain": [
       "array([0, 0, 0])"
      ]
     },
     "execution_count": 50,
     "metadata": {},
     "output_type": "execute_result"
    }
   ],
   "source": [
    "x.argmin(axis=0) # check in each column"
   ]
  },
  {
   "cell_type": "code",
   "execution_count": 51,
   "id": "a1fecd8e-a827-4e66-a4d9-f2e74fe2fc78",
   "metadata": {},
   "outputs": [
    {
     "data": {
      "text/plain": [
       "array([0, 0, 0])"
      ]
     },
     "execution_count": 51,
     "metadata": {},
     "output_type": "execute_result"
    }
   ],
   "source": [
    "x.argmin(axis=1) # check in each column"
   ]
  },
  {
   "cell_type": "code",
   "execution_count": 52,
   "id": "6f163c6a-00bd-4d35-9ea8-e0b06fd7b217",
   "metadata": {},
   "outputs": [
    {
     "data": {
      "text/plain": [
       "array([1, 1, 2])"
      ]
     },
     "execution_count": 52,
     "metadata": {},
     "output_type": "execute_result"
    }
   ],
   "source": [
    "x.argmax(axis=0) # check in each column"
   ]
  },
  {
   "cell_type": "code",
   "execution_count": 53,
   "id": "fffcfb82-eeb5-4339-ad84-6ee42e233ae4",
   "metadata": {},
   "outputs": [
    {
     "data": {
      "text/plain": [
       "array([2, 1, 2])"
      ]
     },
     "execution_count": 53,
     "metadata": {},
     "output_type": "execute_result"
    }
   ],
   "source": [
    "x.argmax(axis=1) # check in each column"
   ]
  },
  {
   "cell_type": "raw",
   "id": "9df085fb-361b-4024-bba0-9378a955046e",
   "metadata": {},
   "source": [
    "x.ravel()"
   ]
  },
  {
   "cell_type": "code",
   "execution_count": 54,
   "id": "4fdffb20-a158-4445-93c9-8c595fe0ccd6",
   "metadata": {},
   "outputs": [
    {
     "data": {
      "text/plain": [
       "array([[1, 2, 3, 4, 8, 5, 2, 6, 9]], dtype=int8)"
      ]
     },
     "execution_count": 54,
     "metadata": {},
     "output_type": "execute_result"
    }
   ],
   "source": [
    "x.reshape(1,9)"
   ]
  },
  {
   "cell_type": "code",
   "execution_count": 55,
   "id": "2514bf7a-73db-4563-bb65-0285805a716f",
   "metadata": {},
   "outputs": [],
   "source": [
    "arr1 = np.array([[1,4,7],[7,3,8]])"
   ]
  },
  {
   "cell_type": "code",
   "execution_count": 56,
   "id": "91137155-aae9-42ef-8c5d-11d4df77fbeb",
   "metadata": {},
   "outputs": [],
   "source": [
    "arr2 = np.array([[2,4,6],[1,7,9]])"
   ]
  },
  {
   "cell_type": "code",
   "execution_count": 57,
   "id": "2199fbff-a072-4c64-afe7-6a2277846f09",
   "metadata": {},
   "outputs": [
    {
     "data": {
      "text/plain": [
       "array([[ 3,  8, 13],\n",
       "       [ 8, 10, 17]])"
      ]
     },
     "execution_count": 57,
     "metadata": {},
     "output_type": "execute_result"
    }
   ],
   "source": [
    "arr1 + arr2"
   ]
  },
  {
   "cell_type": "code",
   "execution_count": 58,
   "id": "08de066a-8f19-4fec-ad1a-c2512152ec5a",
   "metadata": {},
   "outputs": [
    {
     "data": {
      "text/plain": [
       "array([[1, 4, 7],\n",
       "       [7, 3, 8]])"
      ]
     },
     "execution_count": 58,
     "metadata": {},
     "output_type": "execute_result"
    }
   ],
   "source": [
    "arr1"
   ]
  },
  {
   "cell_type": "code",
   "execution_count": 59,
   "id": "c07d262c-811a-4a57-865d-25c829ad4c84",
   "metadata": {},
   "outputs": [
    {
     "data": {
      "text/plain": [
       "array([[ 2, 16, 42],\n",
       "       [ 7, 21, 72]])"
      ]
     },
     "execution_count": 59,
     "metadata": {},
     "output_type": "execute_result"
    }
   ],
   "source": [
    "arr1*arr2"
   ]
  },
  {
   "cell_type": "code",
   "execution_count": 60,
   "id": "fa20f86b-12eb-4657-a634-618ce8af5d7c",
   "metadata": {},
   "outputs": [
    {
     "data": {
      "text/plain": [
       "array([[1.        , 2.        , 2.64575131],\n",
       "       [2.64575131, 1.73205081, 2.82842712]])"
      ]
     },
     "execution_count": 60,
     "metadata": {},
     "output_type": "execute_result"
    }
   ],
   "source": [
    "np.sqrt(arr1)"
   ]
  },
  {
   "cell_type": "code",
   "execution_count": 61,
   "id": "705e59aa-c4db-4ad3-8510-885fcc31b730",
   "metadata": {},
   "outputs": [
    {
     "data": {
      "text/plain": [
       "np.int64(30)"
      ]
     },
     "execution_count": 61,
     "metadata": {},
     "output_type": "execute_result"
    }
   ],
   "source": [
    "arr1.sum() # Sum of all elements in arr"
   ]
  },
  {
   "cell_type": "code",
   "execution_count": 62,
   "id": "b40efd1e-4ec9-4d0e-a774-875331d3fb1c",
   "metadata": {},
   "outputs": [
    {
     "data": {
      "text/plain": [
       "np.int64(8)"
      ]
     },
     "execution_count": 62,
     "metadata": {},
     "output_type": "execute_result"
    }
   ],
   "source": [
    "arr1.max() # Maximum num in arr"
   ]
  },
  {
   "cell_type": "code",
   "execution_count": 63,
   "id": "1b4129f6-b1da-4565-ba10-72a4b231c9e4",
   "metadata": {},
   "outputs": [
    {
     "data": {
      "text/plain": [
       "np.int64(1)"
      ]
     },
     "execution_count": 63,
     "metadata": {},
     "output_type": "execute_result"
    }
   ],
   "source": [
    "arr1.min() # Minimum num in arr"
   ]
  },
  {
   "cell_type": "code",
   "execution_count": 64,
   "id": "4854a515-4cc6-4824-9597-e942069f9fa8",
   "metadata": {},
   "outputs": [
    {
     "data": {
      "text/plain": [
       "array([[1, 4, 7],\n",
       "       [7, 3, 8]])"
      ]
     },
     "execution_count": 64,
     "metadata": {},
     "output_type": "execute_result"
    }
   ],
   "source": [
    "arr1"
   ]
  },
  {
   "cell_type": "code",
   "execution_count": 65,
   "id": "a9da4abd-4f90-403a-bebd-233e5c24c830",
   "metadata": {},
   "outputs": [
    {
     "data": {
      "text/plain": [
       "(array([0, 1, 1]), array([2, 0, 2]))"
      ]
     },
     "execution_count": 65,
     "metadata": {},
     "output_type": "execute_result"
    }
   ],
   "source": [
    "np.where(arr1>5) # first array shows rows and second array shows columns"
   ]
  },
  {
   "cell_type": "code",
   "execution_count": 66,
   "id": "a7cc1827-cefb-4caa-ad7b-563a60e3887b",
   "metadata": {},
   "outputs": [],
   "source": [
    "arr3 = np.array([[3,7,0],[2,9,6],[1,6,9]])"
   ]
  },
  {
   "cell_type": "code",
   "execution_count": 67,
   "id": "dda0776d-be2e-451a-a797-658e5b607031",
   "metadata": {},
   "outputs": [
    {
     "data": {
      "text/plain": [
       "array([[3, 7, 0],\n",
       "       [2, 9, 6],\n",
       "       [1, 6, 9]])"
      ]
     },
     "execution_count": 67,
     "metadata": {},
     "output_type": "execute_result"
    }
   ],
   "source": [
    "arr3"
   ]
  },
  {
   "cell_type": "code",
   "execution_count": 68,
   "id": "c985d5b5-d0a1-4d41-93f0-6016e95c71fc",
   "metadata": {},
   "outputs": [
    {
     "data": {
      "text/plain": [
       "(array([0, 1, 1, 2, 2]), array([1, 1, 2, 1, 2]))"
      ]
     },
     "execution_count": 68,
     "metadata": {},
     "output_type": "execute_result"
    }
   ],
   "source": [
    "np.where(arr3>5)  # first array shows rows and second array shows columns"
   ]
  },
  {
   "cell_type": "code",
   "execution_count": 69,
   "id": "09dc2e6e-e30f-42d2-baef-58eeab6de23b",
   "metadata": {},
   "outputs": [
    {
     "data": {
      "text/plain": [
       "8"
      ]
     },
     "execution_count": 69,
     "metadata": {},
     "output_type": "execute_result"
    }
   ],
   "source": [
    "np.count_nonzero(arr3)"
   ]
  },
  {
   "cell_type": "code",
   "execution_count": 70,
   "id": "f98a0acd-2a12-4515-975a-d6d5e860755c",
   "metadata": {},
   "outputs": [
    {
     "data": {
      "text/plain": [
       "(array([0, 0, 1, 1, 1, 2, 2, 2]), array([0, 1, 0, 1, 2, 0, 1, 2]))"
      ]
     },
     "execution_count": 70,
     "metadata": {},
     "output_type": "execute_result"
    }
   ],
   "source": [
    "np.nonzero(arr3) # tells where element is non zero. first array shows rows and second array shows columns"
   ]
  },
  {
   "cell_type": "code",
   "execution_count": 73,
   "id": "d1b63b6c-205e-4db7-8877-2428e136afe5",
   "metadata": {},
   "outputs": [],
   "source": [
    "empty0 = np.empty((2,5))"
   ]
  },
  {
   "cell_type": "code",
   "execution_count": 74,
   "id": "3712180f",
   "metadata": {},
   "outputs": [
    {
     "data": {
      "text/plain": [
       "array([[nan,  0.,  0.,  0.,  0.],\n",
       "       [ 0.,  0.,  0.,  0.,  0.]])"
      ]
     },
     "execution_count": 74,
     "metadata": {},
     "output_type": "execute_result"
    }
   ],
   "source": [
    "empty0"
   ]
  },
  {
   "cell_type": "code",
   "execution_count": 77,
   "id": "980a8a99",
   "metadata": {},
   "outputs": [],
   "source": [
    "zeros0 = np.zeros((3,4), np.int8)"
   ]
  },
  {
   "cell_type": "code",
   "execution_count": 78,
   "id": "74b82bd4",
   "metadata": {},
   "outputs": [
    {
     "data": {
      "text/plain": [
       "array([[0, 0, 0, 0],\n",
       "       [0, 0, 0, 0],\n",
       "       [0, 0, 0, 0]], dtype=int8)"
      ]
     },
     "execution_count": 78,
     "metadata": {},
     "output_type": "execute_result"
    }
   ],
   "source": [
    "zeros0"
   ]
  },
  {
   "cell_type": "code",
   "execution_count": 79,
   "id": "fe1b1416",
   "metadata": {},
   "outputs": [],
   "source": [
    "ones0 = np.ones((3,2))"
   ]
  },
  {
   "cell_type": "code",
   "execution_count": 80,
   "id": "6d18ee72",
   "metadata": {},
   "outputs": [
    {
     "data": {
      "text/plain": [
       "array([[1., 1.],\n",
       "       [1., 1.],\n",
       "       [1., 1.]])"
      ]
     },
     "execution_count": 80,
     "metadata": {},
     "output_type": "execute_result"
    }
   ],
   "source": [
    "ones0"
   ]
  },
  {
   "cell_type": "code",
   "execution_count": 83,
   "id": "b515f78a",
   "metadata": {},
   "outputs": [],
   "source": [
    "array0 = np.array((3,2))"
   ]
  },
  {
   "cell_type": "code",
   "execution_count": 84,
   "id": "5f901e7d",
   "metadata": {},
   "outputs": [
    {
     "data": {
      "text/plain": [
       "array([3, 2])"
      ]
     },
     "execution_count": 84,
     "metadata": {},
     "output_type": "execute_result"
    }
   ],
   "source": [
    "array0"
   ]
  },
  {
   "cell_type": "code",
   "execution_count": 85,
   "id": "a7c7a45f",
   "metadata": {},
   "outputs": [],
   "source": [
    "marks = np.array([76,78,81,66,85])"
   ]
  },
  {
   "cell_type": "code",
   "execution_count": null,
   "id": "80b0b608",
   "metadata": {},
   "outputs": [],
   "source": []
  }
 ],
 "metadata": {
  "kernelspec": {
   "display_name": "Python 3",
   "language": "python",
   "name": "python3"
  },
  "language_info": {
   "codemirror_mode": {
    "name": "ipython",
    "version": 3
   },
   "file_extension": ".py",
   "mimetype": "text/x-python",
   "name": "python",
   "nbconvert_exporter": "python",
   "pygments_lexer": "ipython3",
   "version": "3.13.2"
  }
 },
 "nbformat": 4,
 "nbformat_minor": 5
}
