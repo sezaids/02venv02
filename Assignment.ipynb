{
 "cells": [
  {
   "cell_type": "code",
   "execution_count": 78,
   "id": "b87e0878",
   "metadata": {},
   "outputs": [
    {
     "name": "stdout",
     "output_type": "stream",
     "text": [
      "You can enter between 1-10, for quit enter 404\n",
      "Hint:2\n",
      "You enter: (404)\n",
      "You quitted! Your total score: 0\n"
     ]
    }
   ],
   "source": [
    "from numpy import random as ran\n",
    "print(\"You can enter between 1-10, for quit enter 404\")\n",
    "try_again = 0\n",
    "random_num = ran.randint(1,11)\n",
    "print(f\"Hint:{random_num}\")\n",
    "user_num = int(input(\"Enter your Guess number: \"))\n",
    "print(f\"You enter: ({user_num})\")\n",
    "score = 0\n",
    "boolean = True\n",
    "while boolean:\n",
    "    if (user_num == random_num):\n",
    "        score += 1\n",
    "        print(f\"Correct guess! Score: {score}\")\n",
    "        random_num = ran.randint(1,11)\n",
    "        try_again = 0\n",
    "    elif(user_num == 404):\n",
    "        print(f\"You quitted! Your total score: {score}\")\n",
    "        break\n",
    "\n",
    "    elif(try_again < 1):\n",
    "        # print(f\"Hint: Number is between {random_num-3} to {random_num+2}\")\n",
    "        if (user_num < random_num):\n",
    "            print(\"Try again once. Hint: Enter larger number.\")\n",
    "        else:\n",
    "            print(\"Try again once. Hint: Enter smaller number.\")\n",
    "        try_again += 1\n",
    "    \n",
    "    else:\n",
    "        print(f\"Wrong guess! Your total score: {score}\")\n",
    "        break\n",
    "    \n",
    "    # print(random_num)\n",
    "    print(\"------------------------------\")\n",
    "    if(score < 2):\n",
    "        print(f\"Hint: {random_num}\")\n",
    "    user_num = int(input(\"Enter your Guess number: \"))\n",
    "    print(f\"You enter: ({user_num})\")"
   ]
  },
  {
   "cell_type": "code",
   "execution_count": 79,
   "id": "89df6ddb",
   "metadata": {},
   "outputs": [
    {
     "name": "stdout",
     "output_type": "stream",
     "text": [
      "\n",
      "Transpose of matrix\n",
      "[[4 2 5]\n",
      " [8 7 9]\n",
      " [5 1 2]]\n",
      "\n",
      "Determinant of matrix\n",
      "-57.00000000000001\n",
      "\n",
      "Adjoint of matrix\n",
      "[[  5.  29. -27.]\n",
      " [  1. -17.   6.]\n",
      " [-17.   4.  12.]]\n",
      "\n",
      "Inverse of matrix\n",
      "[[-0.0877193  -0.50877193  0.47368421]\n",
      " [-0.01754386  0.29824561 -0.10526316]\n",
      " [ 0.29824561 -0.07017544 -0.21052632]]\n",
      "\n",
      "A.B of matrix\n",
      "[[19 22]\n",
      " [43 50]]\n"
     ]
    }
   ],
   "source": [
    "import numpy as np\n",
    "arr = np.array([\n",
    "    [4,8,5],\n",
    "    [2,7,1],\n",
    "    [5,9,2]\n",
    "])\n",
    "# arr = np.array([\n",
    "#     [7,3],\n",
    "#     [2,5]\n",
    "# ])\n",
    "arr_transpose = arr.T\n",
    "print(\"\\nTranspose of matrix\")\n",
    "print(arr_transpose)\n",
    "print(\"\\nDeterminant of matrix\")\n",
    "print(np.linalg.det(arr))\n",
    "print(\"\\nAdjoint of matrix\")\n",
    "print((np.linalg.det(arr))*(np.linalg.inv(arr)))\n",
    "print(\"\\nInverse of matrix\")\n",
    "print(np.linalg.inv(arr))\n",
    "A = np.array([\n",
    "    [1,2],\n",
    "    [3,4]\n",
    "])\n",
    "B = np.array([\n",
    "    [5,6],\n",
    "    [7,8]\n",
    "])\n",
    "print(\"\\nA.B of matrix\")\n",
    "print(np.dot(A,B))\n",
    "\n",
    "\n"
   ]
  },
  {
   "cell_type": "code",
   "execution_count": 80,
   "id": "d6c0bcc9",
   "metadata": {},
   "outputs": [
    {
     "name": "stdout",
     "output_type": "stream",
     "text": [
      "[[1.]\n",
      " [2.]\n",
      " [3.]]\n"
     ]
    }
   ],
   "source": [
    "import numpy as np\n",
    "# x + y + z =6\n",
    "# y + 3z = 11\n",
    "# x – 2y + z = 0\n",
    "\n",
    "# x = 1, y = 2, z = 3\n",
    "\n",
    "A = np.array([\n",
    "    [1,1,1],\n",
    "    [0,1,3],\n",
    "    [1,-2,1]\n",
    "])\n",
    "B = np.array([\n",
    "    [6],\n",
    "    [11],\n",
    "    [0]\n",
    "    ])\n",
    "X = ((np.linalg.solve(A,B)))\n",
    "print(X)"
   ]
  },
  {
   "cell_type": "code",
   "execution_count": 85,
   "id": "acdee6fc",
   "metadata": {},
   "outputs": [
    {
     "name": "stdout",
     "output_type": "stream",
     "text": [
      "Full list [51 23 71 99 67 93 20 66 10 84 42 18 24 56 55]\n",
      "[np.int32(23), np.int32(71), np.int32(67)]\n"
     ]
    }
   ],
   "source": [
    "from numpy import random as ran\n",
    "import numpy\n",
    "random_num = ran.randint(2,100,15)\n",
    "print(\"Full list\", random_num)\n",
    "ls_prime = []\n",
    "ls_notprime = []\n",
    "for num in random_num:\n",
    "    check_prime = True\n",
    "    if(num == 2):\n",
    "        check_prime = True\n",
    "    for i in range(2, num):\n",
    "        if(num % i == 0):\n",
    "            check_prime = False\n",
    "\n",
    "            break\n",
    "    if(check_prime == True):\n",
    "        ls_prime.append(num)\n",
    "\n",
    "print(ls_prime)"
   ]
  },
  {
   "cell_type": "code",
   "execution_count": null,
   "id": "d274d000",
   "metadata": {},
   "outputs": [],
   "source": []
  }
 ],
 "metadata": {
  "kernelspec": {
   "display_name": "Python 3",
   "language": "python",
   "name": "python3"
  },
  "language_info": {
   "codemirror_mode": {
    "name": "ipython",
    "version": 3
   },
   "file_extension": ".py",
   "mimetype": "text/x-python",
   "name": "python",
   "nbconvert_exporter": "python",
   "pygments_lexer": "ipython3",
   "version": "3.13.2"
  }
 },
 "nbformat": 4,
 "nbformat_minor": 5
}
